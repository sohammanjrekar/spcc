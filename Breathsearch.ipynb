{
  "nbformat": 4,
  "nbformat_minor": 0,
  "metadata": {
    "colab": {
      "provenance": [],
      "mount_file_id": "1NlrUvQoBOjn31lVmjs3FvAwm_Ef7YPbY",
      "authorship_tag": "ABX9TyOeWwyNXhTizGULl0UW3UgD",
      "include_colab_link": true
    },
    "kernelspec": {
      "name": "python3",
      "display_name": "Python 3"
    },
    "language_info": {
      "name": "python"
    }
  },
  "cells": [
    {
      "cell_type": "markdown",
      "metadata": {
        "id": "view-in-github",
        "colab_type": "text"
      },
      "source": [
        "<a href=\"https://colab.research.google.com/github/sohammanjrekar/spcc/blob/main/Breathsearch.ipynb\" target=\"_parent\"><img src=\"https://colab.research.google.com/assets/colab-badge.svg\" alt=\"Open In Colab\"/></a>"
      ]
    },
    {
      "cell_type": "code",
      "execution_count": 2,
      "metadata": {
        "colab": {
          "base_uri": "https://localhost:8080/"
        },
        "id": "DD95guBGbtaX",
        "outputId": "3d6c15bd-501c-4795-a31c-d2522e60594c"
      },
      "outputs": [
        {
          "output_type": "stream",
          "name": "stdout",
          "text": [
            "\n",
            "Breadth-First Search\n",
            "Add in visited :  5\n",
            "Add in Queue :  5\n",
            "Deque from queue :  5\n",
            "Add in Queue :  3\n",
            "Add in visited :  3\n",
            "Add in Queue :  7\n",
            "Add in visited :  7\n",
            "Deque from queue :  3\n",
            "Add in Queue :  2\n",
            "Add in visited :  2\n",
            "Add in Queue :  4\n",
            "Add in visited :  4\n",
            "Deque from queue :  7\n",
            "Add in Queue :  8\n",
            "Add in visited :  8\n",
            "Deque from queue :  2\n",
            "Deque from queue :  4\n",
            "Deque from queue :  8\n",
            "['5', '3', '7', '2', '4', '8']\n"
          ]
        }
      ],
      "source": [
        "graph = {\n",
        "  '5' : ['3','7'],\n",
        "  '3' : ['2', '4'],\n",
        "  '7' : ['8'],\n",
        "  '2' : [],\n",
        "  '4' : ['8'],\n",
        "  '8' : []\n",
        "}\n",
        "visited = [] \n",
        "queue = []    \n",
        "\n",
        "def bfs(visited, graph, node):\n",
        "  visited.append(node)\n",
        "  print(\"Add in visited : \",node)\n",
        "  queue.append(node)\n",
        "  print(\"Add in Queue : \",node) \n",
        "  while queue:        \n",
        "    m = queue.pop(0)\n",
        "    print(\"Deque from queue : \",m) \n",
        "    for x in graph[m]:\n",
        "      if x not in visited:\n",
        "        queue.append(x)\n",
        "        print(\"Add in Queue : \",x)\n",
        "        visited.append(x)\n",
        "        print(\"Add in visited : \",x)\n",
        "  print(visited)\n",
        "\n",
        "print(\"\\nBreadth-First Search\")\n",
        "bfs(visited,graph,'5')"
      ]
    }
  ]
}